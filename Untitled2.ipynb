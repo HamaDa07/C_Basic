{
  "nbformat": 4,
  "nbformat_minor": 0,
  "metadata": {
    "colab": {
      "name": "Untitled2.ipynb",
      "provenance": [],
      "collapsed_sections": [],
      "authorship_tag": "ABX9TyPWnnmJFO9kUF8SKWukW6X+",
      "include_colab_link": true
    },
    "kernelspec": {
      "name": "python3",
      "display_name": "Python 3"
    },
    "language_info": {
      "name": "python"
    }
  },
  "cells": [
    {
      "cell_type": "markdown",
      "metadata": {
        "id": "view-in-github",
        "colab_type": "text"
      },
      "source": [
        "<a href=\"https://colab.research.google.com/github/tanakatanakajava/-1_C-/blob/main/Untitled2.ipynb\" target=\"_parent\"><img src=\"https://colab.research.google.com/assets/colab-badge.svg\" alt=\"Open In Colab\"/></a>"
      ]
    },
    {
      "cell_type": "code",
      "metadata": {
        "colab": {
          "base_uri": "https://localhost:8080/",
          "height": 741
        },
        "id": "9PkDv-J6My3J",
        "outputId": "232165ec-a013-4ea9-829d-86d2f5cb3f2f"
      },
      "source": [
        "##################　ライブラリのインポート　##############\n",
        "from keras.models import Sequential\n",
        "from keras.layers import Dense, Activation\n",
        "from keras.optimizers import SGD\n",
        "import numpy as np\n",
        "import matplotlib.pyplot as plt\n",
        "%matplotlib inline\n",
        "\n",
        "##################　訓練データの作成と正解データ　##############\n",
        "#訓練データ\n",
        "train = np.array([[0,0], # 0と1の組み合わせ行列（4データ，2列）\n",
        "                  [0,1],\n",
        "                  [1,0],\n",
        "                  [1,1]])\n",
        "\n",
        "#正解データ\n",
        "label = np.array([[0], # 正解ラベル(4データ，1列)\n",
        "                  [1],\n",
        "                  [1],\n",
        "                  [0]])\n",
        "\n",
        "#####　以下，XOR演算を学習するニューラルネットワークを設定する　##############\n",
        "#Sequentialオブジェクト生成\n",
        "model = Sequential()\n",
        "\n",
        "#（第1層）隠れ層\n",
        "model.add(\n",
        "    Dense(units=3,                #隠れ層のニューロン数は2\n",
        "          input_dim=2,            #入力層のニューロン数は2\n",
        "          activation='sigmoid'))  #活性化関数はシグモイド\n",
        "\n",
        "#（第2層）出力層\n",
        "model.add(\n",
        "    Dense(units=1,               # 出力層のニューロン数は1\n",
        "          activation='sigmoid')) # 活性化関数はシグモイド\n",
        "\n",
        "model.compile(\n",
        "    loss='binary_crossentropy', #誤差関数にバイナリ用のクロスエントロピーを指定\n",
        "    optimizer=SGD(lr=0.1),      #勾配降下法を指定\n",
        ")\n",
        "\n",
        "#ニューラルネットワークのサマリー（概要）を出力\n",
        "model.summary()\n",
        "\n",
        "##################　ニューラルネットワークで学習を行う　##############\n",
        "epochs = 3000\n",
        "batchs = 1\n",
        "\n",
        "history = model.fit(\n",
        "    train,         #訓練データ\n",
        "    label,         #正解ラベル\n",
        "    epochs = epochs,   #学習回数\n",
        "    batch_size = batchs,  #ミニバッチのサイズ（今回は全て使用）\n",
        "    verbose=0,     #学習の進捗状況を表示する\n",
        ")\n",
        "\n",
        "##################　学習結果を確認する　##############\n",
        "# predict_classes()で出力のみを行う\n",
        "# 0.5をしきい値として0または1を取得\n",
        "classes = model.predict_classes(train, batch_size=batchs)\n",
        "#出力された値そのものを取得\n",
        "prob = model.predict_proba(train, batch_size=batchs)\n",
        "\n",
        "print('Output:')\n",
        "print(classes)\n",
        "print('Output Probability:')\n",
        "print(prob)\n",
        "\n",
        "\n",
        "##############　グラフを表示する　####################\n",
        "plt.plot(range(1,epochs+1), history.history['loss'], label=\"loss\")\n",
        "plt.xlabel('Epochs')\n",
        "plt.ylabel('loss')\n",
        "plt.legend()\n",
        "plt.show()"
      ],
      "execution_count": null,
      "outputs": [
        {
          "output_type": "stream",
          "text": [
            "Model: \"sequential_7\"\n",
            "_________________________________________________________________\n",
            "Layer (type)                 Output Shape              Param #   \n",
            "=================================================================\n",
            "dense_14 (Dense)             (None, 3)                 9         \n",
            "_________________________________________________________________\n",
            "dense_15 (Dense)             (None, 1)                 4         \n",
            "=================================================================\n",
            "Total params: 13\n",
            "Trainable params: 13\n",
            "Non-trainable params: 0\n",
            "_________________________________________________________________\n"
          ],
          "name": "stdout"
        },
        {
          "output_type": "stream",
          "text": [
            "/usr/local/lib/python3.7/dist-packages/tensorflow/python/keras/engine/sequential.py:450: UserWarning: `model.predict_classes()` is deprecated and will be removed after 2021-01-01. Please use instead:* `np.argmax(model.predict(x), axis=-1)`,   if your model does multi-class classification   (e.g. if it uses a `softmax` last-layer activation).* `(model.predict(x) > 0.5).astype(\"int32\")`,   if your model does binary classification   (e.g. if it uses a `sigmoid` last-layer activation).\n",
            "  warnings.warn('`model.predict_classes()` is deprecated and '\n",
            "/usr/local/lib/python3.7/dist-packages/tensorflow/python/keras/engine/sequential.py:425: UserWarning: `model.predict_proba()` is deprecated and will be removed after 2021-01-01. Please use `model.predict()` instead.\n",
            "  warnings.warn('`model.predict_proba()` is deprecated and '\n"
          ],
          "name": "stderr"
        },
        {
          "output_type": "stream",
          "text": [
            "Output:\n",
            "[[0]\n",
            " [1]\n",
            " [1]\n",
            " [0]]\n",
            "Output Probability:\n",
            "[[0.01345363]\n",
            " [0.98925185]\n",
            " [0.98915815]\n",
            " [0.01181322]]\n"
          ],
          "name": "stdout"
        },
        {
          "output_type": "display_data",
          "data": {
            "image/png": "[encoded data removed]",
            "text/plain": [
              "<Figure size 432x288 with 1 Axes>"
            ]
          },
          "metadata": {
            "tags": [],
            "needs_background": "light"
          }
        }
      ]
    }
  ]
}